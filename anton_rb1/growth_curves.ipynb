{
 "cells": [
  {
   "cell_type": "code",
   "execution_count": 105,
   "id": "a9580348",
   "metadata": {},
   "outputs": [],
   "source": [
    "import pandas as pd\n",
    "import numpy as np\n",
    "import matplotlib.pyplot as plt\n",
    "import seaborn as sns"
   ]
  },
  {
   "cell_type": "code",
   "execution_count": 106,
   "id": "f3b93102",
   "metadata": {},
   "outputs": [],
   "source": [
    "df = pd.read_excel('/Users/boscoll/Downloads/Book1.xlsx', sheet_name='Sheet1')\n",
    "# df = pd.read_excel('/Users/boscoll/Downloads/Book1.xlsx', sheet_name='Sheet2')"
   ]
  },
  {
   "cell_type": "code",
   "execution_count": 107,
   "id": "8ea03717",
   "metadata": {},
   "outputs": [],
   "source": [
    "vehicle_cols = df.columns[1:5]   \n",
    "ribo_cols = df.columns[5:9]      "
   ]
  },
  {
   "cell_type": "code",
   "execution_count": 108,
   "id": "af63ba47",
   "metadata": {},
   "outputs": [
    {
     "data": {
      "application/vnd.microsoft.datawrangler.viewer.v0+json": {
       "columns": [
        {
         "name": "index",
         "rawType": "int64",
         "type": "integer"
        },
        {
         "name": "Day",
         "rawType": "int64",
         "type": "integer"
        },
        {
         "name": "Vehicle",
         "rawType": "float64",
         "type": "float"
        },
        {
         "name": "Unnamed: 2",
         "rawType": "float64",
         "type": "float"
        },
        {
         "name": "Unnamed: 3",
         "rawType": "float64",
         "type": "float"
        },
        {
         "name": "Unnamed: 4",
         "rawType": "float64",
         "type": "float"
        },
        {
         "name": "Ribo",
         "rawType": "float64",
         "type": "float"
        },
        {
         "name": "Unnamed: 6",
         "rawType": "float64",
         "type": "float"
        },
        {
         "name": "Unnamed: 7",
         "rawType": "float64",
         "type": "float"
        },
        {
         "name": "Unnamed: 8",
         "rawType": "float64",
         "type": "float"
        }
       ],
       "ref": "73e0f804-b025-43dd-a299-6cf5eaf814cb",
       "rows": [
        [
         "0",
         "60",
         "93.59",
         "98.52",
         "83.83",
         "71.66",
         "68.07",
         "88.7",
         "103.45",
         "77.87"
        ],
        [
         "1",
         "63",
         "116.87",
         "103.45",
         "108.88",
         "84.23",
         "103.92",
         "108.88",
         "126.8",
         "98.52"
        ],
        [
         "2",
         "67",
         "143.69",
         "109.29",
         "152.27",
         "128.08",
         "120.64",
         "128.59",
         "126.8",
         "130.92"
        ],
        [
         "3",
         "70",
         "157.37",
         "116.58",
         "187.29",
         "148.07",
         "120.8",
         "130.54",
         "113.1",
         "124.79"
        ],
        [
         "4",
         "74",
         "171.58",
         "129.41",
         "212.06",
         "172.55",
         "124.69",
         "134.85",
         "100.16",
         "98.2"
        ],
        [
         "5",
         "77",
         "196.94",
         "154.42",
         "248.47",
         "193.69",
         "100.37",
         "109.21",
         "86.78",
         "80.35"
        ],
        [
         "6",
         "81",
         "336.91",
         "175.62",
         "321.56",
         "242.75",
         "107.44",
         "110.97",
         null,
         "96.88"
        ],
        [
         "7",
         "84",
         "372.53",
         "230.72",
         "572.15",
         "291.82",
         "105.47",
         "120.8",
         null,
         "105.71"
        ]
       ],
       "shape": {
        "columns": 9,
        "rows": 8
       }
      },
      "text/html": [
       "<div>\n",
       "<style scoped>\n",
       "    .dataframe tbody tr th:only-of-type {\n",
       "        vertical-align: middle;\n",
       "    }\n",
       "\n",
       "    .dataframe tbody tr th {\n",
       "        vertical-align: top;\n",
       "    }\n",
       "\n",
       "    .dataframe thead th {\n",
       "        text-align: right;\n",
       "    }\n",
       "</style>\n",
       "<table border=\"1\" class=\"dataframe\">\n",
       "  <thead>\n",
       "    <tr style=\"text-align: right;\">\n",
       "      <th></th>\n",
       "      <th>Day</th>\n",
       "      <th>Vehicle</th>\n",
       "      <th>Unnamed: 2</th>\n",
       "      <th>Unnamed: 3</th>\n",
       "      <th>Unnamed: 4</th>\n",
       "      <th>Ribo</th>\n",
       "      <th>Unnamed: 6</th>\n",
       "      <th>Unnamed: 7</th>\n",
       "      <th>Unnamed: 8</th>\n",
       "    </tr>\n",
       "  </thead>\n",
       "  <tbody>\n",
       "    <tr>\n",
       "      <th>0</th>\n",
       "      <td>60</td>\n",
       "      <td>93.59</td>\n",
       "      <td>98.52</td>\n",
       "      <td>83.83</td>\n",
       "      <td>71.66</td>\n",
       "      <td>68.07</td>\n",
       "      <td>88.70</td>\n",
       "      <td>103.45</td>\n",
       "      <td>77.87</td>\n",
       "    </tr>\n",
       "    <tr>\n",
       "      <th>1</th>\n",
       "      <td>63</td>\n",
       "      <td>116.87</td>\n",
       "      <td>103.45</td>\n",
       "      <td>108.88</td>\n",
       "      <td>84.23</td>\n",
       "      <td>103.92</td>\n",
       "      <td>108.88</td>\n",
       "      <td>126.80</td>\n",
       "      <td>98.52</td>\n",
       "    </tr>\n",
       "    <tr>\n",
       "      <th>2</th>\n",
       "      <td>67</td>\n",
       "      <td>143.69</td>\n",
       "      <td>109.29</td>\n",
       "      <td>152.27</td>\n",
       "      <td>128.08</td>\n",
       "      <td>120.64</td>\n",
       "      <td>128.59</td>\n",
       "      <td>126.80</td>\n",
       "      <td>130.92</td>\n",
       "    </tr>\n",
       "    <tr>\n",
       "      <th>3</th>\n",
       "      <td>70</td>\n",
       "      <td>157.37</td>\n",
       "      <td>116.58</td>\n",
       "      <td>187.29</td>\n",
       "      <td>148.07</td>\n",
       "      <td>120.80</td>\n",
       "      <td>130.54</td>\n",
       "      <td>113.10</td>\n",
       "      <td>124.79</td>\n",
       "    </tr>\n",
       "    <tr>\n",
       "      <th>4</th>\n",
       "      <td>74</td>\n",
       "      <td>171.58</td>\n",
       "      <td>129.41</td>\n",
       "      <td>212.06</td>\n",
       "      <td>172.55</td>\n",
       "      <td>124.69</td>\n",
       "      <td>134.85</td>\n",
       "      <td>100.16</td>\n",
       "      <td>98.20</td>\n",
       "    </tr>\n",
       "    <tr>\n",
       "      <th>5</th>\n",
       "      <td>77</td>\n",
       "      <td>196.94</td>\n",
       "      <td>154.42</td>\n",
       "      <td>248.47</td>\n",
       "      <td>193.69</td>\n",
       "      <td>100.37</td>\n",
       "      <td>109.21</td>\n",
       "      <td>86.78</td>\n",
       "      <td>80.35</td>\n",
       "    </tr>\n",
       "    <tr>\n",
       "      <th>6</th>\n",
       "      <td>81</td>\n",
       "      <td>336.91</td>\n",
       "      <td>175.62</td>\n",
       "      <td>321.56</td>\n",
       "      <td>242.75</td>\n",
       "      <td>107.44</td>\n",
       "      <td>110.97</td>\n",
       "      <td>NaN</td>\n",
       "      <td>96.88</td>\n",
       "    </tr>\n",
       "    <tr>\n",
       "      <th>7</th>\n",
       "      <td>84</td>\n",
       "      <td>372.53</td>\n",
       "      <td>230.72</td>\n",
       "      <td>572.15</td>\n",
       "      <td>291.82</td>\n",
       "      <td>105.47</td>\n",
       "      <td>120.80</td>\n",
       "      <td>NaN</td>\n",
       "      <td>105.71</td>\n",
       "    </tr>\n",
       "  </tbody>\n",
       "</table>\n",
       "</div>"
      ],
      "text/plain": [
       "   Day  Vehicle  Unnamed: 2  Unnamed: 3  Unnamed: 4    Ribo  Unnamed: 6  \\\n",
       "0   60    93.59       98.52       83.83       71.66   68.07       88.70   \n",
       "1   63   116.87      103.45      108.88       84.23  103.92      108.88   \n",
       "2   67   143.69      109.29      152.27      128.08  120.64      128.59   \n",
       "3   70   157.37      116.58      187.29      148.07  120.80      130.54   \n",
       "4   74   171.58      129.41      212.06      172.55  124.69      134.85   \n",
       "5   77   196.94      154.42      248.47      193.69  100.37      109.21   \n",
       "6   81   336.91      175.62      321.56      242.75  107.44      110.97   \n",
       "7   84   372.53      230.72      572.15      291.82  105.47      120.80   \n",
       "\n",
       "   Unnamed: 7  Unnamed: 8  \n",
       "0      103.45       77.87  \n",
       "1      126.80       98.52  \n",
       "2      126.80      130.92  \n",
       "3      113.10      124.79  \n",
       "4      100.16       98.20  \n",
       "5       86.78       80.35  \n",
       "6         NaN       96.88  \n",
       "7         NaN      105.71  "
      ]
     },
     "execution_count": 108,
     "metadata": {},
     "output_type": "execute_result"
    }
   ],
   "source": [
    "df"
   ]
  },
  {
   "cell_type": "code",
   "execution_count": 110,
   "id": "2a073de9",
   "metadata": {},
   "outputs": [],
   "source": [
    "vehicle_long = df.melt(id_vars=['Day'], \n",
    "                       value_vars=vehicle_cols, \n",
    "                       var_name='Mouse', \n",
    "                       value_name='TumorVolume')\n",
    "vehicle_long['Treatment'] = 'Vehicle'\n",
    "\n",
    "ribo_long = df.melt(id_vars=['Day'], \n",
    "                    value_vars=ribo_cols, \n",
    "                    var_name='Mouse', \n",
    "                    value_name='TumorVolume')\n",
    "ribo_long['Treatment'] = 'Ribo'"
   ]
  },
  {
   "cell_type": "code",
   "execution_count": 112,
   "id": "a8bf85ac",
   "metadata": {},
   "outputs": [],
   "source": [
    "df_long = pd.concat([vehicle_long, ribo_long], ignore_index=True)"
   ]
  },
  {
   "cell_type": "code",
   "execution_count": 113,
   "id": "a26ce90f",
   "metadata": {},
   "outputs": [
    {
     "data": {
      "application/vnd.microsoft.datawrangler.viewer.v0+json": {
       "columns": [
        {
         "name": "index",
         "rawType": "int64",
         "type": "integer"
        },
        {
         "name": "Day",
         "rawType": "int64",
         "type": "integer"
        },
        {
         "name": "Mouse",
         "rawType": "object",
         "type": "string"
        },
        {
         "name": "TumorVolume",
         "rawType": "float64",
         "type": "float"
        },
        {
         "name": "Treatment",
         "rawType": "object",
         "type": "string"
        }
       ],
       "ref": "a1a19f1e-6b4c-4f80-920f-85dfe4d5fe2b",
       "rows": [
        [
         "0",
         "60",
         "Vehicle",
         "93.59",
         "Vehicle"
        ],
        [
         "1",
         "63",
         "Vehicle",
         "116.87",
         "Vehicle"
        ],
        [
         "2",
         "67",
         "Vehicle",
         "143.69",
         "Vehicle"
        ],
        [
         "3",
         "70",
         "Vehicle",
         "157.37",
         "Vehicle"
        ],
        [
         "4",
         "74",
         "Vehicle",
         "171.58",
         "Vehicle"
        ],
        [
         "5",
         "77",
         "Vehicle",
         "196.94",
         "Vehicle"
        ],
        [
         "6",
         "81",
         "Vehicle",
         "336.91",
         "Vehicle"
        ],
        [
         "7",
         "84",
         "Vehicle",
         "372.53",
         "Vehicle"
        ],
        [
         "8",
         "60",
         "Unnamed: 2",
         "98.52",
         "Vehicle"
        ],
        [
         "9",
         "63",
         "Unnamed: 2",
         "103.45",
         "Vehicle"
        ],
        [
         "10",
         "67",
         "Unnamed: 2",
         "109.29",
         "Vehicle"
        ],
        [
         "11",
         "70",
         "Unnamed: 2",
         "116.58",
         "Vehicle"
        ],
        [
         "12",
         "74",
         "Unnamed: 2",
         "129.41",
         "Vehicle"
        ],
        [
         "13",
         "77",
         "Unnamed: 2",
         "154.42",
         "Vehicle"
        ],
        [
         "14",
         "81",
         "Unnamed: 2",
         "175.62",
         "Vehicle"
        ],
        [
         "15",
         "84",
         "Unnamed: 2",
         "230.72",
         "Vehicle"
        ],
        [
         "16",
         "60",
         "Unnamed: 3",
         "83.83",
         "Vehicle"
        ],
        [
         "17",
         "63",
         "Unnamed: 3",
         "108.88",
         "Vehicle"
        ],
        [
         "18",
         "67",
         "Unnamed: 3",
         "152.27",
         "Vehicle"
        ],
        [
         "19",
         "70",
         "Unnamed: 3",
         "187.29",
         "Vehicle"
        ],
        [
         "20",
         "74",
         "Unnamed: 3",
         "212.06",
         "Vehicle"
        ],
        [
         "21",
         "77",
         "Unnamed: 3",
         "248.47",
         "Vehicle"
        ],
        [
         "22",
         "81",
         "Unnamed: 3",
         "321.56",
         "Vehicle"
        ],
        [
         "23",
         "84",
         "Unnamed: 3",
         "572.15",
         "Vehicle"
        ],
        [
         "24",
         "60",
         "Unnamed: 4",
         "71.66",
         "Vehicle"
        ],
        [
         "25",
         "63",
         "Unnamed: 4",
         "84.23",
         "Vehicle"
        ],
        [
         "26",
         "67",
         "Unnamed: 4",
         "128.08",
         "Vehicle"
        ],
        [
         "27",
         "70",
         "Unnamed: 4",
         "148.07",
         "Vehicle"
        ],
        [
         "28",
         "74",
         "Unnamed: 4",
         "172.55",
         "Vehicle"
        ],
        [
         "29",
         "77",
         "Unnamed: 4",
         "193.69",
         "Vehicle"
        ],
        [
         "30",
         "81",
         "Unnamed: 4",
         "242.75",
         "Vehicle"
        ],
        [
         "31",
         "84",
         "Unnamed: 4",
         "291.82",
         "Vehicle"
        ],
        [
         "32",
         "60",
         "Ribo",
         "68.07",
         "Ribo"
        ],
        [
         "33",
         "63",
         "Ribo",
         "103.92",
         "Ribo"
        ],
        [
         "34",
         "67",
         "Ribo",
         "120.64",
         "Ribo"
        ],
        [
         "35",
         "70",
         "Ribo",
         "120.8",
         "Ribo"
        ],
        [
         "36",
         "74",
         "Ribo",
         "124.69",
         "Ribo"
        ],
        [
         "37",
         "77",
         "Ribo",
         "100.37",
         "Ribo"
        ],
        [
         "38",
         "81",
         "Ribo",
         "107.44",
         "Ribo"
        ],
        [
         "39",
         "84",
         "Ribo",
         "105.47",
         "Ribo"
        ],
        [
         "40",
         "60",
         "Unnamed: 6",
         "88.7",
         "Ribo"
        ],
        [
         "41",
         "63",
         "Unnamed: 6",
         "108.88",
         "Ribo"
        ],
        [
         "42",
         "67",
         "Unnamed: 6",
         "128.59",
         "Ribo"
        ],
        [
         "43",
         "70",
         "Unnamed: 6",
         "130.54",
         "Ribo"
        ],
        [
         "44",
         "74",
         "Unnamed: 6",
         "134.85",
         "Ribo"
        ],
        [
         "45",
         "77",
         "Unnamed: 6",
         "109.21",
         "Ribo"
        ],
        [
         "46",
         "81",
         "Unnamed: 6",
         "110.97",
         "Ribo"
        ],
        [
         "47",
         "84",
         "Unnamed: 6",
         "120.8",
         "Ribo"
        ],
        [
         "48",
         "60",
         "Unnamed: 7",
         "103.45",
         "Ribo"
        ],
        [
         "49",
         "63",
         "Unnamed: 7",
         "126.8",
         "Ribo"
        ]
       ],
       "shape": {
        "columns": 4,
        "rows": 64
       }
      },
      "text/html": [
       "<div>\n",
       "<style scoped>\n",
       "    .dataframe tbody tr th:only-of-type {\n",
       "        vertical-align: middle;\n",
       "    }\n",
       "\n",
       "    .dataframe tbody tr th {\n",
       "        vertical-align: top;\n",
       "    }\n",
       "\n",
       "    .dataframe thead th {\n",
       "        text-align: right;\n",
       "    }\n",
       "</style>\n",
       "<table border=\"1\" class=\"dataframe\">\n",
       "  <thead>\n",
       "    <tr style=\"text-align: right;\">\n",
       "      <th></th>\n",
       "      <th>Day</th>\n",
       "      <th>Mouse</th>\n",
       "      <th>TumorVolume</th>\n",
       "      <th>Treatment</th>\n",
       "    </tr>\n",
       "  </thead>\n",
       "  <tbody>\n",
       "    <tr>\n",
       "      <th>0</th>\n",
       "      <td>60</td>\n",
       "      <td>Vehicle</td>\n",
       "      <td>93.59</td>\n",
       "      <td>Vehicle</td>\n",
       "    </tr>\n",
       "    <tr>\n",
       "      <th>1</th>\n",
       "      <td>63</td>\n",
       "      <td>Vehicle</td>\n",
       "      <td>116.87</td>\n",
       "      <td>Vehicle</td>\n",
       "    </tr>\n",
       "    <tr>\n",
       "      <th>2</th>\n",
       "      <td>67</td>\n",
       "      <td>Vehicle</td>\n",
       "      <td>143.69</td>\n",
       "      <td>Vehicle</td>\n",
       "    </tr>\n",
       "    <tr>\n",
       "      <th>3</th>\n",
       "      <td>70</td>\n",
       "      <td>Vehicle</td>\n",
       "      <td>157.37</td>\n",
       "      <td>Vehicle</td>\n",
       "    </tr>\n",
       "    <tr>\n",
       "      <th>4</th>\n",
       "      <td>74</td>\n",
       "      <td>Vehicle</td>\n",
       "      <td>171.58</td>\n",
       "      <td>Vehicle</td>\n",
       "    </tr>\n",
       "    <tr>\n",
       "      <th>...</th>\n",
       "      <td>...</td>\n",
       "      <td>...</td>\n",
       "      <td>...</td>\n",
       "      <td>...</td>\n",
       "    </tr>\n",
       "    <tr>\n",
       "      <th>59</th>\n",
       "      <td>70</td>\n",
       "      <td>Unnamed: 8</td>\n",
       "      <td>124.79</td>\n",
       "      <td>Ribo</td>\n",
       "    </tr>\n",
       "    <tr>\n",
       "      <th>60</th>\n",
       "      <td>74</td>\n",
       "      <td>Unnamed: 8</td>\n",
       "      <td>98.20</td>\n",
       "      <td>Ribo</td>\n",
       "    </tr>\n",
       "    <tr>\n",
       "      <th>61</th>\n",
       "      <td>77</td>\n",
       "      <td>Unnamed: 8</td>\n",
       "      <td>80.35</td>\n",
       "      <td>Ribo</td>\n",
       "    </tr>\n",
       "    <tr>\n",
       "      <th>62</th>\n",
       "      <td>81</td>\n",
       "      <td>Unnamed: 8</td>\n",
       "      <td>96.88</td>\n",
       "      <td>Ribo</td>\n",
       "    </tr>\n",
       "    <tr>\n",
       "      <th>63</th>\n",
       "      <td>84</td>\n",
       "      <td>Unnamed: 8</td>\n",
       "      <td>105.71</td>\n",
       "      <td>Ribo</td>\n",
       "    </tr>\n",
       "  </tbody>\n",
       "</table>\n",
       "<p>64 rows × 4 columns</p>\n",
       "</div>"
      ],
      "text/plain": [
       "    Day       Mouse  TumorVolume Treatment\n",
       "0    60     Vehicle        93.59   Vehicle\n",
       "1    63     Vehicle       116.87   Vehicle\n",
       "2    67     Vehicle       143.69   Vehicle\n",
       "3    70     Vehicle       157.37   Vehicle\n",
       "4    74     Vehicle       171.58   Vehicle\n",
       "..  ...         ...          ...       ...\n",
       "59   70  Unnamed: 8       124.79      Ribo\n",
       "60   74  Unnamed: 8        98.20      Ribo\n",
       "61   77  Unnamed: 8        80.35      Ribo\n",
       "62   81  Unnamed: 8        96.88      Ribo\n",
       "63   84  Unnamed: 8       105.71      Ribo\n",
       "\n",
       "[64 rows x 4 columns]"
      ]
     },
     "execution_count": 113,
     "metadata": {},
     "output_type": "execute_result"
    }
   ],
   "source": [
    "df_long"
   ]
  },
  {
   "cell_type": "code",
   "execution_count": 116,
   "id": "f1914db6",
   "metadata": {},
   "outputs": [],
   "source": [
    "df_long['Mouse'] = df_long.groupby('Treatment').cumcount() % 4 + 1\n",
    "df_long['Mouse'] = df_long['Treatment'] + \"_\" + df_long['Mouse'].astype(str)\n",
    "df_long = df_long.dropna()"
   ]
  },
  {
   "cell_type": "code",
   "execution_count": 118,
   "id": "fa36cc28",
   "metadata": {},
   "outputs": [
    {
     "name": "stdout",
     "output_type": "stream",
     "text": [
      "                       Mixed Linear Model Regression Results\n",
      "====================================================================================\n",
      "Model:                     MixedLM          Dependent Variable:          TumorVolume\n",
      "No. Observations:          62               Method:                      REML       \n",
      "No. Groups:                8                Scale:                       2146.6462  \n",
      "Min. group size:           7                Log-Likelihood:              -252.5221  \n",
      "Max. group size:           8                Converged:                   Yes        \n",
      "Mean group size:           7.8                                                      \n",
      "------------------------------------------------------------------------------------\n",
      "                                      Coef.   Std.Err.   z    P>|z|  [0.025   0.975]\n",
      "------------------------------------------------------------------------------------\n",
      "Intercept                              84.523   37.710  2.241 0.025   10.613 158.432\n",
      "C(Treatment)[T.Vehicle]                 2.377   61.975  0.038 0.969 -119.092 123.847\n",
      "C(Day)[T.63]                           25.007   67.218  0.372 0.710 -106.737 156.752\n",
      "C(Day)[T.67]                           42.215   64.353  0.656 0.512  -83.915 168.345\n",
      "C(Day)[T.70]                           37.785   58.419  0.647 0.518  -76.715 152.285\n",
      "C(Day)[T.74]                           29.952   32.762  0.914 0.361  -34.259  94.164\n",
      "C(Day)[T.77]                            9.655   67.218  0.144 0.886 -122.089 141.399\n",
      "C(Day)[T.81]                           20.574   65.729  0.313 0.754 -108.251 149.400\n",
      "C(Day)[T.84]                           26.137   59.931  0.436 0.663  -91.325 143.600\n",
      "C(Treatment)[T.Vehicle]:C(Day)[T.63]   -8.550   86.337 -0.099 0.921 -177.767 160.667\n",
      "C(Treatment)[T.Vehicle]:C(Day)[T.67]    4.218   95.426  0.044 0.965 -182.814 191.249\n",
      "C(Treatment)[T.Vehicle]:C(Day)[T.70]   27.643   77.998  0.354 0.723 -125.232 180.517\n",
      "C(Treatment)[T.Vehicle]:C(Day)[T.74]   54.548   46.332  1.177 0.239  -36.261 145.356\n",
      "C(Treatment)[T.Vehicle]:C(Day)[T.77]  101.825   86.337  1.179 0.238  -67.392 271.042\n",
      "C(Treatment)[T.Vehicle]:C(Day)[T.81]  161.736   96.359  1.678 0.093  -27.124 350.596\n",
      "C(Treatment)[T.Vehicle]:C(Day)[T.84]  253.768   79.137  3.207 0.001   98.662 408.873\n",
      "Group Var                            2146.646                                       \n",
      "====================================================================================\n",
      "\n"
     ]
    },
    {
     "name": "stderr",
     "output_type": "stream",
     "text": [
      "/Users/boscoll/miniconda3/envs/data_analysis/lib/python3.11/site-packages/statsmodels/regression/mixed_linear_model.py:2261: ConvergenceWarning: The Hessian matrix at the estimated parameter values is not positive definite.\n",
      "  warnings.warn(msg, ConvergenceWarning)\n"
     ]
    }
   ],
   "source": [
    "from statsmodels.formula.api import mixedlm\n",
    "\n",
    "model = mixedlm(\"TumorVolume ~ C(Treatment) + C(Day) + C(Treatment):C(Day)\", \n",
    "                df_long, \n",
    "                groups=df_long[\"Mouse\"])  \n",
    "result = model.fit()\n",
    "print(result.summary())"
   ]
  },
  {
   "cell_type": "code",
   "execution_count": 133,
   "id": "c6f574be",
   "metadata": {},
   "outputs": [
    {
     "data": {
      "text/plain": [
       "'0.14.5'"
      ]
     },
     "execution_count": 133,
     "metadata": {},
     "output_type": "execute_result"
    }
   ],
   "source": [
    "## which version of statsmodels\n",
    "import statsmodels\n",
    "statsmodels.__version__\n"
   ]
  },
  {
   "cell_type": "code",
   "execution_count": 135,
   "id": "ef19747d",
   "metadata": {},
   "outputs": [
    {
     "data": {
      "text/plain": [
       "-2.321928094887362"
      ]
     },
     "execution_count": 135,
     "metadata": {},
     "output_type": "execute_result"
    }
   ],
   "source": [
    "np.log2(0.2)"
   ]
  },
  {
   "cell_type": "code",
   "execution_count": 124,
   "id": "3d3800a9",
   "metadata": {},
   "outputs": [
    {
     "name": "stdout",
     "output_type": "stream",
     "text": [
      "                   Mixed Linear Model Regression Results\n",
      "============================================================================\n",
      "Model:                   MixedLM       Dependent Variable:       TumorVolume\n",
      "No. Observations:        62            Method:                   REML       \n",
      "No. Groups:              8             Scale:                    2276.0118  \n",
      "Min. group size:         7             Log-Likelihood:           -317.4832  \n",
      "Max. group size:         8             Converged:                Yes        \n",
      "Mean group size:         7.8                                                \n",
      "----------------------------------------------------------------------------\n",
      "                             Coef.   Std.Err.   z    P>|z|  [0.025   0.975] \n",
      "----------------------------------------------------------------------------\n",
      "Intercept                     93.363   92.970  1.004 0.315  -88.855  275.582\n",
      "C(Treatment)[T.Vehicle]     -646.908  115.697 -5.591 0.000 -873.669 -420.147\n",
      "Day                            0.212    1.292  0.164 0.870   -2.321    2.745\n",
      "C(Treatment)[T.Vehicle]:Day   10.049    1.607  6.253 0.000    6.899   13.198\n",
      "Group Var                      2.328   10.383                               \n",
      "============================================================================\n",
      "\n"
     ]
    },
    {
     "name": "stderr",
     "output_type": "stream",
     "text": [
      "/Users/boscoll/miniconda3/envs/data_analysis/lib/python3.11/site-packages/statsmodels/base/model.py:607: ConvergenceWarning: Maximum Likelihood optimization failed to converge. Check mle_retvals\n",
      "  warnings.warn(\"Maximum Likelihood optimization failed to \"\n",
      "/Users/boscoll/miniconda3/envs/data_analysis/lib/python3.11/site-packages/statsmodels/regression/mixed_linear_model.py:2200: ConvergenceWarning: Retrying MixedLM optimization with lbfgs\n",
      "  warnings.warn(\n"
     ]
    }
   ],
   "source": [
    "from statsmodels.formula.api import mixedlm\n",
    "\n",
    "model = mixedlm(\"TumorVolume ~ C(Treatment) + Day + C(Treatment):Day\", \n",
    "                df_long, \n",
    "                groups=df_long[\"Mouse\"])  \n",
    "result = model.fit()\n",
    "print(result.summary())"
   ]
  },
  {
   "cell_type": "code",
   "execution_count": 125,
   "id": "a51cc029",
   "metadata": {},
   "outputs": [
    {
     "name": "stdout",
     "output_type": "stream",
     "text": [
      "                 Mixed Linear Model Regression Results\n",
      "========================================================================\n",
      "Model:                 MixedLM      Dependent Variable:      TumorVolume\n",
      "No. Observations:      62           Method:                  REML       \n",
      "No. Groups:            8            Scale:                   3532.2160  \n",
      "Min. group size:       7            Log-Likelihood:          -334.9128  \n",
      "Max. group size:       8            Converged:               Yes        \n",
      "Mean group size:       7.8                                              \n",
      "------------------------------------------------------------------------\n",
      "                         Coef.   Std.Err.   z    P>|z|  [0.025   0.975] \n",
      "------------------------------------------------------------------------\n",
      "Intercept               -257.388   79.337 -3.244 0.001 -412.887 -101.890\n",
      "C(Treatment)[T.Vehicle]   73.423   23.701  3.098 0.002   26.970  119.876\n",
      "Day                        5.127    1.086  4.719 0.000    2.998    7.257\n",
      "Group Var                665.540   20.659                               \n",
      "========================================================================\n",
      "\n"
     ]
    },
    {
     "name": "stderr",
     "output_type": "stream",
     "text": [
      "/Users/boscoll/miniconda3/envs/data_analysis/lib/python3.11/site-packages/statsmodels/base/model.py:607: ConvergenceWarning: Maximum Likelihood optimization failed to converge. Check mle_retvals\n",
      "  warnings.warn(\"Maximum Likelihood optimization failed to \"\n",
      "/Users/boscoll/miniconda3/envs/data_analysis/lib/python3.11/site-packages/statsmodels/regression/mixed_linear_model.py:2200: ConvergenceWarning: Retrying MixedLM optimization with lbfgs\n",
      "  warnings.warn(\n"
     ]
    }
   ],
   "source": [
    "from statsmodels.formula.api import mixedlm\n",
    "\n",
    "model = mixedlm(\"TumorVolume ~ C(Treatment) + Day\", \n",
    "                df_long, \n",
    "                groups=df_long[\"Mouse\"])  \n",
    "result = model.fit()\n",
    "print(result.summary())"
   ]
  },
  {
   "cell_type": "code",
   "execution_count": 127,
   "id": "d283ce6f",
   "metadata": {},
   "outputs": [
    {
     "name": "stdout",
     "output_type": "stream",
     "text": [
      "Likelihood Ratio Test: χ² = 34.405, df = 1, p = 4.475e-09\n"
     ]
    },
    {
     "name": "stderr",
     "output_type": "stream",
     "text": [
      "/Users/boscoll/miniconda3/envs/data_analysis/lib/python3.11/site-packages/statsmodels/regression/mixed_linear_model.py:1634: UserWarning: Random effects covariance is singular\n",
      "  warnings.warn(msg)\n",
      "/Users/boscoll/miniconda3/envs/data_analysis/lib/python3.11/site-packages/statsmodels/regression/mixed_linear_model.py:1634: UserWarning: Random effects covariance is singular\n",
      "  warnings.warn(msg)\n",
      "/Users/boscoll/miniconda3/envs/data_analysis/lib/python3.11/site-packages/statsmodels/regression/mixed_linear_model.py:2237: ConvergenceWarning: The MLE may be on the boundary of the parameter space.\n",
      "  warnings.warn(msg, ConvergenceWarning)\n"
     ]
    }
   ],
   "source": [
    "from scipy import stats\n",
    "\n",
    "\n",
    "m1 = mixedlm(\"TumorVolume ~ C(Treatment) + Day\", df_long, groups=df_long[\"Mouse\"])\n",
    "res1 = m1.fit(method=\"lbfgs\")\n",
    "\n",
    "m2 = mixedlm(\"TumorVolume ~ C(Treatment) * Day\", df_long, groups=df_long[\"Mouse\"])\n",
    "res2 = m2.fit(method=\"lbfgs\")\n",
    "\n",
    "LR = 2 * (res2.llf - res1.llf)        \n",
    "df_diff = res2.df_modelwc - res1.df_modelwc\n",
    "pval = stats.chi2.sf(LR, df_diff)\n",
    "\n",
    "print(f\"Likelihood Ratio Test: χ² = {LR:.3f}, df = {df_diff}, p = {pval:.4g}\")"
   ]
  }
 ],
 "metadata": {
  "kernelspec": {
   "display_name": "data_analysis",
   "language": "python",
   "name": "python3"
  },
  "language_info": {
   "codemirror_mode": {
    "name": "ipython",
    "version": 3
   },
   "file_extension": ".py",
   "mimetype": "text/x-python",
   "name": "python",
   "nbconvert_exporter": "python",
   "pygments_lexer": "ipython3",
   "version": "3.11.13"
  }
 },
 "nbformat": 4,
 "nbformat_minor": 5
}
